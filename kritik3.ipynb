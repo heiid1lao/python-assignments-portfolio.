{
 "cells": [
  {
   "cell_type": "code",
   "execution_count": 7,
   "id": "9c92296c-c60c-4176-8461-ac7e0cb51a52",
   "metadata": {},
   "outputs": [
    {
     "name": "stdout",
     "output_type": "stream",
     "text": [
      "x1 = -2e-08\n",
      "x2 = 2e-08\n"
     ]
    }
   ],
   "source": [
    "import numpy as np\n",
    "f = lambda x: np.exp(x)\n",
    "c = 0\n",
    "E = 0.01\n",
    "\n",
    "delta_x = 10**-8\n",
    "\n",
    "def diff_derivative(x):\n",
    "    return (f(c+delta_x) - f(c-delta_x))/(2*delta_x)\n",
    "def approximate(x):\n",
    "    return f(c) + diff_derivative(c)*(x-c)\n",
    "def absolute_error(x):\n",
    "    return abs(f(x) - approximate) - E\n",
    "\n",
    "x1 = c - delta_x\n",
    "x2 = c + delta_x\n",
    "\n",
    "if abs(f(x1) - approximate(x1)) < E or abs(f(x1) - approximate(x1)) > E:\n",
    "    x1 -= delta_x\n",
    "    print(f\"x1 = {x1}\")\n",
    "else:\n",
    "    print (\"unlucky\")\n",
    "\n",
    "if abs(f(x2) - approximate(x2)) < E or abs(f(x2) - approximate(x2)) > E:\n",
    "    x2 += delta_x\n",
    "    print(f\"x2 = {x2}\")\n",
    "else:\n",
    "    print (\"unfortunate !\")"
   ]
  },
  {
   "cell_type": "code",
   "execution_count": null,
   "id": "573207fe-5a1b-4b9c-a53e-20cdfd747bdf",
   "metadata": {},
   "outputs": [],
   "source": []
  }
 ],
 "metadata": {
  "kernelspec": {
   "display_name": "Python 3 (ipykernel)",
   "language": "python",
   "name": "python3"
  },
  "language_info": {
   "codemirror_mode": {
    "name": "ipython",
    "version": 3
   },
   "file_extension": ".py",
   "mimetype": "text/x-python",
   "name": "python",
   "nbconvert_exporter": "python",
   "pygments_lexer": "ipython3",
   "version": "3.12.8"
  }
 },
 "nbformat": 4,
 "nbformat_minor": 5
}
