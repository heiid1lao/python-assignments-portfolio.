{
 "cells": [
  {
   "cell_type": "code",
   "execution_count": 13,
   "id": "9383c8b3-b650-40d0-99ee-209d0fadc158",
   "metadata": {},
   "outputs": [
    {
     "name": "stdin",
     "output_type": "stream",
     "text": [
      "enter number a/n 5\n",
      "enter number b/n 7\n",
      "f1, f2, f3, or f4?/n 4\n"
     ]
    },
    {
     "name": "stdout",
     "output_type": "stream",
     "text": [
      "root cannot be determined by bisection\n"
     ]
    }
   ],
   "source": [
    "import numpy as np\n",
    "a = int(input(\"enter number a/n\"))\n",
    "b = int(input(\"enter number b/n\"))\n",
    "while (a>b):\n",
    "    a = int(input(\"please enter a value of a that is larger than b/n\"))\n",
    "    b = int(input(\"please enter a value of b that is larger than a/n\"))\n",
    "def f1(x):\n",
    "    return (np.exp(x)+np.log(x))\n",
    "\n",
    "def f2(x):\n",
    "    return (np.arctan(x)-(x**2))\n",
    "    \n",
    "def f3(x):\n",
    "    return (np.sin(x)/np.log(x))\n",
    "\n",
    "def f4(x):\n",
    "    return (np.log(np.cos(x)))\n",
    "\n",
    "def roots (f, a, b): \n",
    "    x = np.linspace(a,b, 3)\n",
    "    y = f(x)\n",
    "    if a == 0:\n",
    "        a = 0.00000000001\n",
    "    if (f(a) <= 0 <= f((a+b)/2) or f(a) >= 0 >= f((a+b)/2) or f((a+b)/2) <= 0 <= f(b) or f((a+b)/2) >= 0 >= f(b)):\n",
    "        for i in range(len(y)):\n",
    "            if y[i] < 0.000000000000001 and y[i] > - 0.000000000000001:\n",
    "                return (\"%.10f\" %x[i])\n",
    "        if y[0] < 0 and y[1] > 0 or y[0] > 0 and y[1] < 0:\n",
    "            return roots (f, a, (a+b)/2)\n",
    "        elif y[1] < 0 and y[2] > 0 or y[1] > 0 and y[2] < 0:\n",
    "            return roots (f, (a+b)/2, b)\n",
    "        else:\n",
    "            return \"no roots\"\n",
    "    else: \n",
    "        return \"root cannot be determined by bisection\"\n",
    "choice = input (\"f1, f2, f3, or f4?/n\")\n",
    "\n",
    "if (choice == \"f1\" or choice == \"1\"):\n",
    "    print (roots (f1, a, b))\n",
    "elif (choice == \"f2\" or choice == \"2\"):\n",
    "    print (roots (f2, a, b))\n",
    "elif (choice == \"f3\" or choice == \"3\"):\n",
    "    print (roots (f3, a, b))\n",
    "elif (choice == \"f4\" or \"4\"):\n",
    "    print (roots (f4, a, b))"
   ]
  },
  {
   "cell_type": "code",
   "execution_count": null,
   "id": "e418d44a-df87-4442-80c8-5fbd87908593",
   "metadata": {},
   "outputs": [],
   "source": []
  }
 ],
 "metadata": {
  "kernelspec": {
   "display_name": "Python 3 (ipykernel)",
   "language": "python",
   "name": "python3"
  },
  "language_info": {
   "codemirror_mode": {
    "name": "ipython",
    "version": 3
   },
   "file_extension": ".py",
   "mimetype": "text/x-python",
   "name": "python",
   "nbconvert_exporter": "python",
   "pygments_lexer": "ipython3",
   "version": "3.12.8"
  }
 },
 "nbformat": 4,
 "nbformat_minor": 5
}
