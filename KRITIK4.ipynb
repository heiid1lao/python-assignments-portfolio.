{
 "cells": [
  {
   "cell_type": "code",
   "execution_count": null,
   "id": "bf25e12e-28e7-473d-92c8-7eaf8b54e95f",
   "metadata": {},
   "outputs": [],
   "source": [
    "import matplotlib.pyplot as plt\n",
    "import numpy as np\n",
    "\n",
    "def function(x): #the first function\n",
    "    return x**2 \n",
    "\n",
    "def secondfunction(x): #the second function\n",
    "    return (x**4)-(2*x**2)\n",
    "    \n",
    "def thirdfunction(x): #third function\n",
    "    if x>0:\n",
    "        return x**x\n",
    "    elif x==0:\n",
    "        return 1\n",
    "    else:\n",
    "        return abs(x)**abs(x)\n",
    "\n",
    "def bruhfunction(x): \n",
    "    if x>=0:\n",
    "        return x\n",
    "    if x<0:\n",
    "        return -x\n",
    "#since the function is not differentiable at the minimum and since the slope never changes, you'll never reach the minimum\n",
    "#the descent DTDS will only move back and forth indefinitely\n",
    "#FML\n",
    "def gradient_descent(f, learning_rate, initial_point):\n",
    "    def deriv(f, initial_point): \n",
    "        return (f(initial_point+10**(-5))-f(initial_point))/(10**(-5))\n",
    "\n",
    "    i=0\n",
    "        \n",
    "    x_coords=[initial_point]\n",
    "    y_coords=[f(initial_point)] \n",
    "\n",
    "    while abs(deriv(f, x_coords[i]))>0.001 : \n",
    "        i+=1\n",
    "        x_coords.append(x_coords[i-1]-learning_rate*deriv(f, x_coords[i-1])) \n",
    "        y_coords.append(f(x_coords[i-1]-learning_rate*deriv(f, x_coords[i-1]))) \n",
    "              \n",
    "        \n",
    "    plot_range=np.linspace(min(x_coords)-0.5, max(x_coords)+0.5,10000) \n",
    "    function_range=[f(i) for i in plot_range]\n",
    "    plt.plot(plot_range, function_range) \n",
    "    plt.plot(x_coords, y_coords)\n",
    "    plt.show() \n",
    "    return(round(x_coords[i-1],3), round(y_coords[i-1],3))\n",
    "\n",
    "print(gradient_descent(bruhfunction, 0.03,2)) "
   ]
  },
  {
   "cell_type": "code",
   "execution_count": null,
   "id": "5e42fcfd-dca4-4fd6-95cb-f765e3399464",
   "metadata": {},
   "outputs": [],
   "source": []
  }
 ],
 "metadata": {
  "kernelspec": {
   "display_name": "Python 3 (ipykernel)",
   "language": "python",
   "name": "python3"
  },
  "language_info": {
   "codemirror_mode": {
    "name": "ipython",
    "version": 3
   },
   "file_extension": ".py",
   "mimetype": "text/x-python",
   "name": "python",
   "nbconvert_exporter": "python",
   "pygments_lexer": "ipython3",
   "version": "3.12.8"
  }
 },
 "nbformat": 4,
 "nbformat_minor": 5
}
