{
 "cells": [
  {
   "cell_type": "code",
   "execution_count": 5,
   "id": "72aed469-aef7-475b-b41a-8cf686aacc9c",
   "metadata": {},
   "outputs": [
    {
     "name": "stdout",
     "output_type": "stream",
     "text": [
      "probability = 0.8937398021438359\n"
     ]
    }
   ],
   "source": [
    "#Q3 finding the probability that some random guy's height is gonna be between 162-190cm\n",
    "import numpy as np\n",
    "import matplotlib.pyplot as plt\n",
    "\n",
    "def normaldensity (mean, variance, x): #varience is reped by o^2 -> its the standard deviation squared\n",
    "    fxx = ((1/np.sqrt(2 * np.pi * variance)) * np.e**(-1 * ((x - mean)**2)/(2 * variance)))\n",
    "    return fxx\n",
    "\n",
    "def integrating (mean, variance, a, b):\n",
    "    n = 5000\n",
    "    x = np.linspace(a, b, n+1)\n",
    "    mpsum = 0 #midpoint sum :P\n",
    "    for i in x[1: n + 1]:\n",
    "        mpsum += normal_density(mean, variance, i)\n",
    "    integratedmpsum = (mpsum) * (b - a)/n\n",
    "    return integratedmpsum\n",
    "print (\"probability =\", integration(171, 7.1**2, 162, 190))"
   ]
  },
  {
   "cell_type": "code",
   "execution_count": 15,
   "id": "bb9be128-bfed-45dc-82e2-d2e9f60bb53e",
   "metadata": {},
   "outputs": [
    {
     "name": "stdout",
     "output_type": "stream",
     "text": [
      "The expected drug dose: 69593.58 mg\n"
     ]
    }
   ],
   "source": [
    "#Q4 finding average dosing for said random guy given the dosage of a drug \n",
    "\n",
    "def expecteddose(mean, variance,): \n",
    "    expectedheight = mean\n",
    "    expecteddose = 2.38 * expectedheight ** 2\n",
    "    return expecteddose\n",
    "\n",
    "meanheight = 171\n",
    "varianceheight = 7.1 ** 2\n",
    "\n",
    "dose = expecteddose(meanheight, varianceheight)\n",
    "print(\"The expected drug dose is:\", dose, \"mg\")"
   ]
  },
  {
   "cell_type": "code",
   "execution_count": null,
   "id": "0b513eec-aa5b-4590-b5b7-a521fb13404b",
   "metadata": {},
   "outputs": [],
   "source": []
  }
 ],
 "metadata": {
  "kernelspec": {
   "display_name": "Python 3 (ipykernel)",
   "language": "python",
   "name": "python3"
  },
  "language_info": {
   "codemirror_mode": {
    "name": "ipython",
    "version": 3
   },
   "file_extension": ".py",
   "mimetype": "text/x-python",
   "name": "python",
   "nbconvert_exporter": "python",
   "pygments_lexer": "ipython3",
   "version": "3.12.8"
  }
 },
 "nbformat": 4,
 "nbformat_minor": 5
}
